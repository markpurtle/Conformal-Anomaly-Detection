{
 "cells": [
  {
   "cell_type": "code",
   "execution_count": 4,
   "metadata": {},
   "outputs": [],
   "source": [
    "#Load USPS Dataset\n",
    "import h5py\n",
    "path=\"usps.h5\"\n",
    "with h5py.File(path, 'r') as hf:\n",
    "        train = hf.get('train')\n",
    "        X_train = train.get('data')[:]\n",
    "        y_train = train.get('target')[:]\n",
    "        test = hf.get('test')\n",
    "        X_test = test.get('data')[:]\n",
    "        y_test = test.get('target')[:]\n",
    "\n",
    "#Load Libraries\n",
    "from sklearn.model_selection import train_test_split\n",
    "import numpy as np\n",
    "import math \n",
    "import matplotlib.pyplot as plt \n",
    "import time\n",
    "from sklearn.svm import SVC\n",
    "%matplotlib inline"
   ]
  },
  {
   "cell_type": "code",
   "execution_count": 5,
   "metadata": {},
   "outputs": [],
   "source": [
    "#Concatenate training and test set\n",
    "X=np.row_stack((X_train,X_test))\n",
    "y=np.append(y_train,y_test)\n",
    "#Split into and initial training set size and the rest of the data\n",
    "X_train_p, X_other, y_train_p, y_other = train_test_split(X, y, random_state=0,test_size=0.85)\n"
   ]
  },
  {
   "cell_type": "code",
   "execution_count": 6,
   "metadata": {},
   "outputs": [
    {
     "name": "stdout",
     "output_type": "stream",
     "text": [
      "Training Proper Size: 1394\n",
      "Other Data Samples: 7904\n"
     ]
    }
   ],
   "source": [
    "print(\"Training Proper Size:\", len(X_train_p))\n",
    "print(\"Other Data Samples:\",len(X_other))"
   ]
  },
  {
   "cell_type": "markdown",
   "metadata": {},
   "source": [
    "# Online Mode 3 SVM ICAD"
   ]
  },
  {
   "cell_type": "code",
   "execution_count": 7,
   "metadata": {},
   "outputs": [],
   "source": [
    "#Create anomalous data samples\n",
    "X_other[260][0:256:2]=1\n",
    "X_other[940][0:256:2]=1\n",
    "X_other[1350][0:256:2]=1\n",
    "X_other[4580][0:256:2]=1\n",
    "X_other[3260][0:256:2]=1\n",
    "X_other[6010][0:256:2]=1"
   ]
  },
  {
   "cell_type": "code",
   "execution_count": 8,
   "metadata": {},
   "outputs": [],
   "source": [
    "p_values=np.zeros((len(X_other)))\n",
    "online_X_train=X_train_p.copy()\n",
    "online_y_train=y_train_p.copy()\n",
    "online_X_cal=[]\n",
    "online_y_cal=[]\n",
    "score_cal=[]\n",
    "SVM=SVC()\n",
    "SVM.fit(online_X_train,online_y_train)\n",
    "for i in range(len(X_other)):\n",
    "    d_func=SVM.decision_function([X_other[i]])\n",
    "    if len(online_X_cal)==0:\n",
    "        p_values[i]=1\n",
    "        online_X_cal=X_other[i].reshape(1,len(X_other[0]))\n",
    "        online_y_cal=y_other[i]\n",
    "    else:\n",
    "        score_extend=np.append(score_cal,(-1*d_func[0][y_other[i]]))\n",
    "        #Calculate p-values of test sample\n",
    "        p_values[i]=np.mean(score_extend>=score_extend[-1])\n",
    "        #tau=np.random.uniform()\n",
    "        #p_values[i]=(np.sum(score_extend>score_extend[-1])+(tau*(np.sum(score_extend==score_extend[-1]))))/len(score_extend)\n",
    "        online_X_cal=np.row_stack((online_X_cal,X_other[i]))\n",
    "        online_y_cal=np.append(online_y_cal,y_other[i])\n",
    "    score_cal=np.append(score_cal,-1*d_func[0][y_other[i]])\n",
    "    \n",
    "    if len(online_X_cal) > 1000:\n",
    "        #If calibration set size is greater than 1000, tranfer 800 samples to training set and leave 200 in calibration set\n",
    "        online_X_train=np.row_stack((online_X_train,online_X_cal[:len(online_X_cal)-200]))\n",
    "        online_y_train=np.append(online_y_train,online_y_cal[:len(online_y_cal)-200])\n",
    "        online_X_cal=online_X_cal[len(online_X_cal)-200:]\n",
    "        online_y_cal=online_y_cal[len(online_y_cal)-200:]\n",
    "        #Re-fit SVM to new training set\n",
    "        SVM.fit(online_X_train,online_y_train)\n",
    "        #Re-calculate calibration set scores\n",
    "        d_func_cal=SVM.decision_function(online_X_cal)\n",
    "        row=np.arange(0,len(d_func_cal))\n",
    "        score_cal=-1*d_func_cal[row,online_y_cal]"
   ]
  },
  {
   "cell_type": "code",
   "execution_count": 9,
   "metadata": {},
   "outputs": [],
   "source": [
    "#Find anomalies where the label is less than the significance level\n",
    "sig=0.01\n",
    "anom_indicator=np.zeros((len(X_other)))\n",
    "for i in range(len(X_other)):\n",
    "    if p_values[i] < sig:\n",
    "        anom_indicator[i]=True\n",
    "    else:\n",
    "        anom_indicator[i]=False"
   ]
  },
  {
   "cell_type": "code",
   "execution_count": 10,
   "metadata": {},
   "outputs": [],
   "source": [
    "#Get samples that were detected as anomalies\n",
    "anomalies=X_other[anom_indicator==1]\n",
    "labels=y_other[anom_indicator==1]"
   ]
  },
  {
   "cell_type": "code",
   "execution_count": 13,
   "metadata": {},
   "outputs": [
    {
     "data": {
      "image/png": "[encoded data removed]",
      "text/plain": [
       "<Figure size 540x576 with 20 Axes>"
      ]
     },
     "metadata": {
      "needs_background": "light"
     },
     "output_type": "display_data"
    }
   ],
   "source": [
    "# Plot images of anomalies\n",
    "total=20\n",
    "column=5\n",
    "row=4\n",
    "fig, axes = plt.subplots(row, column, figsize=(1.5*column,2*row))\n",
    "for i in range(total):\n",
    "    #Reshape images back to 16x16\n",
    "    anom_reshape=anomalies[i].reshape(16,16)\n",
    "    ax = axes[i//column, i%column]\n",
    "    ax.imshow(anom_reshape, cmap='gray')\n",
    "    ax.set_title('Label: {}'.format(labels[i]))\n",
    "plt.show()"
   ]
  },
  {
   "cell_type": "code",
   "execution_count": null,
   "metadata": {},
   "outputs": [],
   "source": []
  },
  {
   "cell_type": "code",
   "execution_count": null,
   "metadata": {},
   "outputs": [],
   "source": []
  }
 ],
 "metadata": {
  "kernelspec": {
   "display_name": "Python 3",
   "language": "python",
   "name": "python3"
  },
  "language_info": {
   "codemirror_mode": {
    "name": "ipython",
    "version": 3
   },
   "file_extension": ".py",
   "mimetype": "text/x-python",
   "name": "python",
   "nbconvert_exporter": "python",
   "pygments_lexer": "ipython3",
   "version": "3.7.6"
  }
 },
 "nbformat": 4,
 "nbformat_minor": 2
}
